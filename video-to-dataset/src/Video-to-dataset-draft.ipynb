{
 "cells": [
  {
   "cell_type": "markdown",
   "id": "ca6dddc1-b6fe-4b3e-8328-850914040a3f",
   "metadata": {},
   "source": [
    "# Video to Dataset Draft\n",
    "*Contributors: Lily*"
   ]
  },
  {
   "cell_type": "markdown",
   "id": "4ab41a85-beb3-45c7-873a-a522b2b55852",
   "metadata": {},
   "source": [
    "Assumed format of the input CSV:\n",
    "\n",
    "`start (ms) | end (ms) | delete | class 1 | class 2 | ... | class N`\n",
    "\n",
    "eg.\n",
    "`200,1300,0,1,0,0,0`\n",
    "`200,1300,0,1,,,`\n",
    "\n",
    "**File must have header corresponding to class names or numbers. They will be used in the output labels**\n",
    "\n",
    "in class columns: 1 for yes, 0 for no\n",
    "\n",
    "Does not necessarily need to be ordered"
   ]
  },
  {
   "cell_type": "markdown",
   "id": "c1e07914-8b5d-46eb-8b96-457b2eb49c4f",
   "metadata": {},
   "source": [
    "### Requires:\n",
    "- OpenCV\n",
    "- NumPy"
   ]
  },
  {
   "cell_type": "code",
   "execution_count": 1,
   "id": "e1462467-9f22-47e9-82ab-e5bfc17b9cb9",
   "metadata": {
    "tags": []
   },
   "outputs": [],
   "source": [
    "# imports\n",
    "import cv2\n",
    "import os\n",
    "import numpy as np\n",
    "\n",
    "# set up file structure\n",
    "data_dir = 'C:\\\\Users\\\\bookl\\\\Desktop\\\\School\\\\Subbots\\\\subbots-drafts\\\\src' # absolute path to where you want the data dir to appear. otherwise will generate in the same directory as the notebook.\n",
    "partition_file = 'partitions-arvp.csv' # file name or filepath to partition csv\n",
    "video_file = 'C:\\\\Users\\\\bookl\\\\Desktop\\\\School\\\\Subbots\\\\ARVP_2280MB\\\\ARVP\\\\arvp_front_camera.mp4' # file name or path to video file"
   ]
  },
  {
   "cell_type": "code",
   "execution_count": 2,
   "id": "7c65d969-053a-4703-b48b-a4011230fe37",
   "metadata": {
    "jupyter": {
     "source_hidden": true
    },
    "tags": []
   },
   "outputs": [
    {
     "name": "stdout",
     "output_type": "stream",
     "text": [
      "frame count:7781.0\n",
      "frame rate:30.0\n"
     ]
    }
   ],
   "source": [
    "cam = cv2.VideoCapture(video_file)\n",
    "\n",
    "print('frame count:'+str(cam.get(cv2.CAP_PROP_FRAME_COUNT)))\n",
    "print('frame rate:'+str(cam.get(cv2.CAP_PROP_FPS)))\n",
    "\n",
    "FPS=cam.get(cv2.CAP_PROP_FPS)\n",
    "\n",
    "data_dir += ('\\\\data')\n",
    "if not os.path.exists(data_dir):\n",
    "    os.makedirs(data_dir)\n",
    "    print('Created data directory')\n",
    "\n",
    "img_dir=os.path.join(data_dir,'images')\n",
    "if not os.path.exists(img_dir):\n",
    "    os.makedirs(img_dir)\n",
    "    print('Created images directory')\n",
    "    \n",
    "label_dir=os.path.join(data_dir,'labels')\n",
    "if not os.path.exists(label_dir):\n",
    "    os.makedirs(label_dir)\n",
    "    print('Created labels directory')   "
   ]
  },
  {
   "cell_type": "code",
   "execution_count": 7,
   "id": "ff5f03c7-b1d4-4927-b784-677e9f2b2cf3",
   "metadata": {
    "tags": []
   },
   "outputs": [],
   "source": [
    "# Utilities :)\n",
    "\n",
    "'''\n",
    "Naming Convention: \n",
    "    frameno -> the frame number; global reference within the video. \n",
    "    imgno -> the recorded image number; the number of images you HAVE\n",
    "'''\n",
    "\n",
    "# separator for the final label files\n",
    "SEP=' '\n",
    "\n",
    "# checks if frameno falls in the partition's start/end range\n",
    "def in_range(frameno,partition):\n",
    "    if type(partition) is Partition:\n",
    "        return frameno>=partition.start and frameno<=partition.end\n",
    "    else:\n",
    "        return frameno>=partition[0] and frameno<=partition[1]\n",
    "\n",
    "# returns the unique filepath for each image\n",
    "def data_path(imgno):\n",
    "    return os.path.join(img_dir,'img_'+str(imgno)+'.jpg')\n",
    "\n",
    "# Determines if the frame should be deleted\n",
    "def wanted(frameno):\n",
    "    if frameno<2: \n",
    "        return False\n",
    "    return not any(in_range(frameno,deletion) for deletion in deletions)\n",
    "\n",
    "'''\n",
    "coco dataset uses bounding box centerx,centery,height,width; normalized to be in [0,1]\n",
    "    rect: output of selectROI [x1,y1,w,h]\n",
    "    dims: output of getImageWindowRect [x1,y1,w,h]\n",
    "'''\n",
    "def convert_to_coco(rect,dims):\n",
    "    width=rect[2]/dims[2]\n",
    "    height=rect[3]/dims[3]\n",
    "    centerx=(rect[0]+rect[2]/2)/dims[2]\n",
    "    centery=(rect[1]+rect[3]/2)/dims[3]\n",
    "    \n",
    "    # print([centerx,centery,width,height])\n",
    "    return [centerx,centery,width,height]\n",
    "\n",
    "def label(imgno,frameno):\n",
    "    img_name= data_path(imgno) #'data\\\\images\\\\img_'+str(imgno)+'.jpg'\n",
    "    img = cv2.imread(img_name,cv2.IMREAD_UNCHANGED)\n",
    "    data_string= ''\n",
    "    \n",
    "    has_class=np.zeros_like(classes,dtype=int)\n",
    "    \n",
    "    for P in partitions:\n",
    "        if in_range(frameno, P):\n",
    "            has_class = [has_class_i + 1 if P.classes[i] else has_class_i for i, has_class_i in enumerate(has_class)]\n",
    "        \n",
    "    for i in range(len(classes)):\n",
    "        if has_class[i]:\n",
    "            window_name='img_'+str(imgno)+' class '+str(classes[i])\n",
    "            rect=convert_to_coco(cv2.selectROI(window_name,img,showCrosshair=True),cv2.getWindowImageRect(window_name))\n",
    "            cv2.destroyAllWindows()\n",
    "            \n",
    "            if not (rect[2] == 0 and rect[3] == 0):\n",
    "                # centerx, centery, width, height\n",
    "                data_string+=classes[i]+SEP+str(rect[0])+SEP+str(rect[1])+SEP+str(rect[2])+SEP+str(rect[3])+SEP+'\\n'\n",
    "    \n",
    "    if data_string=='':\n",
    "        data_string+='0'+SEP+'0'+SEP+'0'+SEP+'0'+SEP+'0'+SEP+'\\n'\n",
    "    \n",
    "    dataset_file=open(os.path.join(label_dir,'img_'+str(imgno)+'.txt'),'a')\n",
    "    print(data_string,file=dataset_file,flush=True)\n",
    "    # print(data_string+'\\n---\\n')"
   ]
  },
  {
   "cell_type": "code",
   "execution_count": 4,
   "id": "3a85a32b-e202-40f1-8593-432743c08bf9",
   "metadata": {
    "tags": []
   },
   "outputs": [],
   "source": [
    "# generates partitions from csv\n",
    "def extract_partitions(partition_file,deletions_index=2):\n",
    "    partitions_temp=np.genfromtxt(partition_file,delimiter=\",\",filling_values=0)[1:]\n",
    "    \n",
    "    # convert ms to frames\n",
    "    for time in partitions_temp:\n",
    "        time[0]=time[0]/1000*FPS\n",
    "        time[1]=time[1]/1000*FPS\n",
    "    \n",
    "    deletions=[]\n",
    "    for e in partitions_temp:\n",
    "        if e[deletions_index]==1:\n",
    "            deletions.append(e)\n",
    "            \n",
    "    # read in classes\n",
    "    classes=np.genfromtxt(partition_file,delimiter=\",\",dtype=str,encoding='utf-8-sig')[0][3::]\n",
    "    \n",
    "    partitions=[]\n",
    "    for p in partitions_temp:\n",
    "        partitions.append(Partition(start=p[0],end=p[1],classes=p[3:]))\n",
    "\n",
    "    return partitions,deletions,classes\n",
    "\n",
    "# start, end in frames\n",
    "class Partition:\n",
    "    def __init__(self, start, end, classes):\n",
    "        self.start=start\n",
    "        self.end=end\n",
    "        self.classes=classes"
   ]
  },
  {
   "cell_type": "code",
   "execution_count": 9,
   "id": "94d2278f-b901-496f-8568-16993381bc56",
   "metadata": {
    "tags": []
   },
   "outputs": [],
   "source": [
    "# extract images. frames_to_skip is used directly with the naive decimation below\n",
    "# Modified from https://www.tutorialspoint.com/opencv_python/opencv_python_extract_images_video.htm \n",
    "def extract_images(frames_to_skip=100,max_imgs=100):\n",
    "    frameno=0\n",
    "    imgno=0\n",
    "\n",
    "    while(imgno <= max_imgs):\n",
    "        exists,img = cam.read()\n",
    "        if exists:\n",
    "            frameno += 1\n",
    "            \n",
    "            if wanted(frameno):\n",
    "                cv2.imwrite(data_path(imgno), img)\n",
    "                label(imgno,frameno)\n",
    "                imgno+=1\n",
    "                # print(frameno*1000/FPS)\n",
    "            else:\n",
    "                continue\n",
    "\n",
    "            ignore_frames(frames_to_skip)\n",
    "            frameno += frames_to_skip\n",
    "        else:\n",
    "            break\n",
    "\n",
    "    cam.release()\n",
    "\n",
    "# naive frame decimation. does not check for classified images, just indiscriminantly ignores numToIgnore frames\n",
    "def ignore_frames(numToIgnore):\n",
    "    numIgnored=0\n",
    "    while numIgnored<numToIgnore:\n",
    "        cam.read()\n",
    "        numIgnored+=1"
   ]
  },
  {
   "cell_type": "markdown",
   "id": "f3903255-6eb4-4705-b6ba-6369e3ed802a",
   "metadata": {},
   "source": [
    "# Use\n",
    "\n",
    "1. Make your partition file as specified above\n",
    "1. Change the `data_dir` to your filepath\n",
    "1. Set the partition file/file path\n",
    "1. Set the video file\n",
    "1. Set your decimation number (see the frame count, for reference)\n",
    "1. Set max number of images, if needed\n",
    "1. Run all cells\n",
    "1. You will be prompted for bounding boxes. The class will be written at the top\n",
    "    1. If it qualifies as the class, draw the bounding box by clicking and dragging. You can redraw if needed\n",
    "    1. Press `space` or `Enter` to confirm\n",
    "    1. If the image does not contain the class, press `c` or just don't draw a box and press `space` or `Enter`"
   ]
  },
  {
   "cell_type": "code",
   "execution_count": 10,
   "id": "e2a755b4-d04f-4573-a751-3f99b7fdb671",
   "metadata": {
    "tags": []
   },
   "outputs": [],
   "source": [
    "cam = cv2.VideoCapture(video_file)\n",
    "partitions,deletions,classes=extract_partitions(partition_file)\n",
    "extract_images(frames_to_skip=100,max_imgs=100)"
   ]
  },
  {
   "cell_type": "code",
   "execution_count": 19,
   "id": "47a0cad6-baf2-407e-a67e-4f69aaeb06ac",
   "metadata": {
    "tags": []
   },
   "outputs": [],
   "source": [
    "# use to alter label file for a specific image number, prompting for every class. WILL overwrite previous bounding boxes\n",
    "def label_all_classes(imgno):\n",
    "    img_name= data_path(imgno) #'data\\\\images\\\\img_'+str(imgno)+'.jpg'\n",
    "    img = cv2.imread(img_name,cv2.IMREAD_UNCHANGED)\n",
    "    data_string= ''\n",
    "        \n",
    "    for i in range(len(classes)):\n",
    "        window_name='img_'+str(imgno)+' class '+str(classes[i])\n",
    "        rect=convert_to_coco(cv2.selectROI(window_name,img,showCrosshair=True),cv2.getWindowImageRect(window_name))\n",
    "        cv2.destroyAllWindows()\n",
    "\n",
    "        if not (rect[2] == 0 and rect[3] == 0):\n",
    "            # centerx, centery, width, height\n",
    "            data_string+=classes[i]+SEP+str(rect[0])+SEP+str(rect[1])+SEP+str(rect[2])+SEP+str(rect[3])+SEP+'\\n'\n",
    "    \n",
    "    if data_string=='':\n",
    "        data_string+='empty'+SEP+'0'+SEP+'0'+SEP+'0'+SEP+'0'+SEP+'\\n'\n",
    "    dataset_file=open(os.path.join(label_dir,str(imgno)+'.txt'),'w')\n",
    "    print(data_string,file=dataset_file,flush=True)\n",
    "    print(data_string)"
   ]
  },
  {
   "cell_type": "code",
   "execution_count": 23,
   "id": "b3dbbe06-6f61-44b7-adf6-269a1920f72f",
   "metadata": {
    "tags": []
   },
   "outputs": [
    {
     "name": "stdout",
     "output_type": "stream",
     "text": [
      "4 0.653125 0.68125 0.275 0.4013888888888889 \n",
      "\n"
     ]
    }
   ],
   "source": [
    "label_all_classes(68)"
   ]
  },
  {
   "cell_type": "markdown",
   "id": "28d44167-58dd-4cea-b883-333227352123",
   "metadata": {
    "tags": []
   },
   "source": [
    "# Future improvements"
   ]
  },
  {
   "cell_type": "markdown",
   "id": "e8bb1a56-1b2a-4a76-b4f3-c06497159ae5",
   "metadata": {},
   "source": [
    "- sort the csv prior to converting so you don't have to iterate through the rows of the input csv, you can just skip to the most recent time\n",
    "- portions of videos support\n",
    "- support for in situ deletion (like if the photo is bad, or includes a diver)\n",
    "- partitioning in the notebook\n",
    "- adding classes easily later, if they were missed by the partitions"
   ]
  },
  {
   "cell_type": "markdown",
   "id": "dcfe575f-9cb3-434d-bf11-b084063bbd30",
   "metadata": {
    "tags": []
   },
   "source": [
    "### Making the `Partition` file"
   ]
  },
  {
   "cell_type": "code",
   "execution_count": null,
   "id": "369f1e09-6968-45fd-9f62-79ee431c5f24",
   "metadata": {
    "tags": []
   },
   "outputs": [],
   "source": [
    "'''\n",
    "Might be helpful in labelling your video partitions\n",
    "    press q to pause the video for 5s while you write down the number\n",
    "    the number in the corner is the time in ms\n",
    "\n",
    "modified from https://www.geeksforgeeks.org/python-play-a-video-using-opencv/\n",
    "'''\n",
    "\n",
    "import time\n",
    "\n",
    "cap=cv2.VideoCapture(video_file)\n",
    "if (cap.isOpened()== False): \n",
    "    print(\"Error opening video file\") \n",
    "\n",
    "frameno=0\n",
    "# Read until video is completed \n",
    "while(cap.isOpened()): \n",
    "# Capture frame-by-frame \n",
    "    ret, frame = cap.read() \n",
    "    if ret == True: \n",
    "        frameno+=1\n",
    "        frametime=frameno/FPS*1000\n",
    "    # Display the resulting frame\n",
    "        cv2.putText(frame, str((int)(frametime)), (80,80), cv2.FONT_HERSHEY_SIMPLEX, 1, (255, 0, 0), 2)\n",
    "        cv2.imshow('Frame', frame) \n",
    "          \n",
    "    # Press Q on keyboard to exit \n",
    "        if cv2.waitKey(25) & 0xFF == ord('q'): \n",
    "            time.sleep(5)\n",
    "  \n",
    "# Break the loop \n",
    "    else: \n",
    "        break\n",
    "  \n",
    "# When everything done, release \n",
    "# the video capture object \n",
    "cap.release() \n",
    "  \n",
    "# Closes all the frames \n",
    "cv2.destroyAllWindows() "
   ]
  }
 ],
 "metadata": {
  "kernelspec": {
   "display_name": "Python 3 (ipykernel)",
   "language": "python",
   "name": "python3"
  },
  "language_info": {
   "codemirror_mode": {
    "name": "ipython",
    "version": 3
   },
   "file_extension": ".py",
   "mimetype": "text/x-python",
   "name": "python",
   "nbconvert_exporter": "python",
   "pygments_lexer": "ipython3",
   "version": "3.11.5"
  }
 },
 "nbformat": 4,
 "nbformat_minor": 5
}
